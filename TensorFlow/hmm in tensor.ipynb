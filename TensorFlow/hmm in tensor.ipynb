{
 "cells": [
  {
   "cell_type": "code",
   "execution_count": 1,
   "metadata": {},
   "outputs": [],
   "source": [
    "import tensorflow_probability as tfp\n",
    "import tensorflow as tf\n",
    "import tensorflow.keras as keras\n"
   ]
  },
  {
   "cell_type": "code",
   "execution_count": 2,
   "metadata": {},
   "outputs": [
    {
     "name": "stdout",
     "output_type": "stream",
     "text": [
      "TensorFlow Version: 2.18.0\n",
      "TFP Version: 0.25.0\n"
     ]
    }
   ],
   "source": [
    "import tensorflow as tf\n",
    "import tensorflow_probability as tfp\n",
    "\n",
    "print(\"TensorFlow Version:\", tf.__version__)\n",
    "print(\"TFP Version:\", tfp.__version__)\n"
   ]
  },
  {
   "cell_type": "code",
   "execution_count": 15,
   "metadata": {},
   "outputs": [
    {
     "data": {
      "text/plain": [
       "'State 0: Mean = 0.0, Standard deviation = 5.0.\\nState 1: Mean = 15.0, Standard deviation = 10.0.'"
      ]
     },
     "execution_count": 15,
     "metadata": {},
     "output_type": "execute_result"
    }
   ],
   "source": [
    "import tensorflow as tf\n",
    "import tensorflow_probability as tfp\n",
    "import tf_keras as keras  # Import Keras 2 as tf_keras\n",
    "\n",
    "tfd = tfp.distributions\n",
    "\n",
    "# Define distributions\n",
    "initial_distribution = tfd.Categorical(probs=[0.2, 0.8])\n",
    "transition_distribution = tfd.Categorical(probs=[[0.7, 0.3], [0.2, 0.8]])#If in State 0, there's a 70% chance of staying and 30% chance of switching to State 1.\n",
    "#If in State 1, there's a 20% chance of switching to State 0 and 80% chance of staying.\n",
    "\n",
    "observation_distribution = tfd.Normal(loc=[0.0, 15.0], scale=[5.0, 10.0])\n",
    "\"\"\"State 0: Mean = 0.0, Standard deviation = 5.0.\n",
    "State 1: Mean = 15.0, Standard deviation = 10.0.\"\"\""
   ]
  },
  {
   "cell_type": "code",
   "execution_count": 16,
   "metadata": {},
   "outputs": [],
   "source": [
    "model=tfd.HiddenMarkovModel(\n",
    "    initial_distribution=initial_distribution,\n",
    "    transition_distribution=transition_distribution,\n",
    "    observation_distribution=observation_distribution,\n",
    "    num_steps=7\n",
    ")"
   ]
  },
  {
   "cell_type": "code",
   "execution_count": 17,
   "metadata": {},
   "outputs": [
    {
     "name": "stdout",
     "output_type": "stream",
     "text": [
      "[11.999999 10.500001  9.75      9.375     9.187501  9.093751  9.046875]\n"
     ]
    }
   ],
   "source": [
    "mean=model.mean()\n",
    "with tf.compat.v1.Session() as sess:\n",
    "    print(mean.numpy())"
   ]
  },
  {
   "cell_type": "code",
   "execution_count": 14,
   "metadata": {},
   "outputs": [
    {
     "name": "stdout",
     "output_type": "stream",
     "text": [
      "Probability of observed sequence: 0.069616005\n"
     ]
    }
   ],
   "source": [
    "import tensorflow as tf\n",
    "\n",
    "# Define model parameters as tensors\n",
    "A = tf.constant([[0.7, 0.3], [0.4, 0.6]], dtype=tf.float32)  # Transition matrix\n",
    "B = tf.constant([[0.5, 0.5], [0.1, 0.9]], dtype=tf.float32)  # Emission matrix\n",
    "pi = tf.constant([0.6, 0.4], dtype=tf.float32)  # Initial probabilities\n",
    "observations = [0, 1, 0]  # Observed sequence (0,1 represents different emissions)\n",
    "\n",
    "# Forward algorithm\n",
    "num_states = A.shape[0]\n",
    "T = len(observations)\n",
    "\n",
    "# Initialize alpha\n",
    "alpha = pi * tf.gather(B[:, observations[0]], indices=tf.range(num_states))\n",
    "\n",
    "# Recursively compute alpha values\n",
    "for t in range(1, T):\n",
    "    alpha = tf.expand_dims(alpha, axis=1)  # Shape (num_states, 1)\n",
    "    alpha = tf.reduce_sum(alpha * A, axis=0) * B[:, observations[t]]\n",
    "\n",
    "# Compute final probability of the observation sequence\n",
    "prob_observation = tf.reduce_sum(alpha)\n",
    "\n",
    "print(\"Probability of observed sequence:\", prob_observation.numpy())\n"
   ]
  }
 ],
 "metadata": {
  "kernelspec": {
   "display_name": "Python 3",
   "language": "python",
   "name": "python3"
  },
  "language_info": {
   "codemirror_mode": {
    "name": "ipython",
    "version": 3
   },
   "file_extension": ".py",
   "mimetype": "text/x-python",
   "name": "python",
   "nbconvert_exporter": "python",
   "pygments_lexer": "ipython3",
   "version": "3.11.7"
  }
 },
 "nbformat": 4,
 "nbformat_minor": 2
}
