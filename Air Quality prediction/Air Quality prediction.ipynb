{
 "cells": [
  {
   "cell_type": "code",
   "execution_count": 1,
   "metadata": {},
   "outputs": [
    {
     "data": {
      "text/html": [
       "<div>\n",
       "<style scoped>\n",
       "    .dataframe tbody tr th:only-of-type {\n",
       "        vertical-align: middle;\n",
       "    }\n",
       "\n",
       "    .dataframe tbody tr th {\n",
       "        vertical-align: top;\n",
       "    }\n",
       "\n",
       "    .dataframe thead th {\n",
       "        text-align: right;\n",
       "    }\n",
       "</style>\n",
       "<table border=\"1\" class=\"dataframe\">\n",
       "  <thead>\n",
       "    <tr style=\"text-align: right;\">\n",
       "      <th></th>\n",
       "      <th>State</th>\n",
       "      <th>City</th>\n",
       "      <th>PM2.5</th>\n",
       "      <th>PM10</th>\n",
       "      <th>O3</th>\n",
       "      <th>SO2</th>\n",
       "      <th>CO</th>\n",
       "      <th>Wind Speed</th>\n",
       "      <th>Humidity</th>\n",
       "      <th>Temp</th>\n",
       "      <th>AQI</th>\n",
       "      <th>AQI Type</th>\n",
       "    </tr>\n",
       "  </thead>\n",
       "  <tbody>\n",
       "    <tr>\n",
       "      <th>0</th>\n",
       "      <td>Andaman and Nicobar Islands</td>\n",
       "      <td>Port Blair</td>\n",
       "      <td>12.0</td>\n",
       "      <td>20.0</td>\n",
       "      <td>6.0</td>\n",
       "      <td>3.0</td>\n",
       "      <td>215.333333</td>\n",
       "      <td>7.0</td>\n",
       "      <td>89.0</td>\n",
       "      <td>28.0</td>\n",
       "      <td>20.0</td>\n",
       "      <td>Good</td>\n",
       "    </tr>\n",
       "    <tr>\n",
       "      <th>1</th>\n",
       "      <td>Andhra Pradesh</td>\n",
       "      <td>Vinukonda</td>\n",
       "      <td>36.0</td>\n",
       "      <td>53.0</td>\n",
       "      <td>27.0</td>\n",
       "      <td>14.0</td>\n",
       "      <td>451.000000</td>\n",
       "      <td>22.0</td>\n",
       "      <td>68.0</td>\n",
       "      <td>28.0</td>\n",
       "      <td>59.0</td>\n",
       "      <td>Satisfactory</td>\n",
       "    </tr>\n",
       "    <tr>\n",
       "      <th>2</th>\n",
       "      <td>Andhra Pradesh</td>\n",
       "      <td>Darsi</td>\n",
       "      <td>35.0</td>\n",
       "      <td>53.0</td>\n",
       "      <td>24.0</td>\n",
       "      <td>8.0</td>\n",
       "      <td>308.000000</td>\n",
       "      <td>26.0</td>\n",
       "      <td>69.0</td>\n",
       "      <td>28.0</td>\n",
       "      <td>58.0</td>\n",
       "      <td>Satisfactory</td>\n",
       "    </tr>\n",
       "    <tr>\n",
       "      <th>3</th>\n",
       "      <td>Andhra Pradesh</td>\n",
       "      <td>Govindapuram</td>\n",
       "      <td>36.0</td>\n",
       "      <td>55.0</td>\n",
       "      <td>22.0</td>\n",
       "      <td>10.0</td>\n",
       "      <td>321.000000</td>\n",
       "      <td>19.0</td>\n",
       "      <td>68.0</td>\n",
       "      <td>28.0</td>\n",
       "      <td>60.0</td>\n",
       "      <td>Satisfactory</td>\n",
       "    </tr>\n",
       "    <tr>\n",
       "      <th>4</th>\n",
       "      <td>Andhra Pradesh</td>\n",
       "      <td>Pedda Nakkala Palem</td>\n",
       "      <td>37.0</td>\n",
       "      <td>58.0</td>\n",
       "      <td>23.0</td>\n",
       "      <td>8.0</td>\n",
       "      <td>306.000000</td>\n",
       "      <td>23.0</td>\n",
       "      <td>67.0</td>\n",
       "      <td>29.0</td>\n",
       "      <td>61.0</td>\n",
       "      <td>Satisfactory</td>\n",
       "    </tr>\n",
       "  </tbody>\n",
       "</table>\n",
       "</div>"
      ],
      "text/plain": [
       "                         State                 City  PM2.5  PM10    O3   SO2  \\\n",
       "0  Andaman and Nicobar Islands           Port Blair   12.0  20.0   6.0   3.0   \n",
       "1               Andhra Pradesh            Vinukonda   36.0  53.0  27.0  14.0   \n",
       "2               Andhra Pradesh                Darsi   35.0  53.0  24.0   8.0   \n",
       "3               Andhra Pradesh         Govindapuram   36.0  55.0  22.0  10.0   \n",
       "4               Andhra Pradesh  Pedda Nakkala Palem   37.0  58.0  23.0   8.0   \n",
       "\n",
       "           CO  Wind Speed  Humidity  Temp   AQI      AQI Type  \n",
       "0  215.333333         7.0      89.0  28.0  20.0          Good  \n",
       "1  451.000000        22.0      68.0  28.0  59.0  Satisfactory  \n",
       "2  308.000000        26.0      69.0  28.0  58.0  Satisfactory  \n",
       "3  321.000000        19.0      68.0  28.0  60.0  Satisfactory  \n",
       "4  306.000000        23.0      67.0  29.0  61.0  Satisfactory  "
      ]
     },
     "execution_count": 1,
     "metadata": {},
     "output_type": "execute_result"
    }
   ],
   "source": [
    "import pandas as pd\n",
    "df=pd.read_csv(\"/Users/anishjain/Downloads/AQI_Clean_Data.csv\")\n",
    "df.head()"
   ]
  },
  {
   "cell_type": "code",
   "execution_count": 2,
   "metadata": {},
   "outputs": [
    {
     "name": "stdout",
     "output_type": "stream",
     "text": [
      "              State                City  PM2.5  PM10    O3  SO2     CO  \\\n",
      "398  West Medinipur              Kharar   58.0  83.0   3.0  3.0  103.0   \n",
      "399     West Bengal           Bardhaman   53.0  76.0   2.0  1.0   89.0   \n",
      "400     West Bengal          Patrasayer   53.0  76.0   2.0  1.0   89.0   \n",
      "401     West Bengal  Talchinan-Sanihati   21.0  41.0  27.0  9.0  965.0   \n",
      "402     West Bengal              Bagnan   21.0  41.0  27.0  9.0  965.0   \n",
      "\n",
      "     Wind Speed  Humidity  Temp   AQI      AQI Type  \n",
      "398        11.0      94.0  26.0  97.0  Satisfactory  \n",
      "399        14.0      84.0  28.0  89.0  Satisfactory  \n",
      "400         8.0      91.0  27.0  89.0  Satisfactory  \n",
      "401        14.0      84.0  28.0  49.0          Good  \n",
      "402        12.0      85.0  28.0  49.0          Good  \n",
      "(403, 12)\n",
      "State         0\n",
      "City          0\n",
      "PM2.5         0\n",
      "PM10          0\n",
      "O3            0\n",
      "SO2           0\n",
      "CO            0\n",
      "Wind Speed    0\n",
      "Humidity      0\n",
      "Temp          0\n",
      "AQI           0\n",
      "AQI Type      0\n",
      "dtype: int64\n"
     ]
    }
   ],
   "source": [
    "print(df.tail())\n",
    "print(df.shape)\n",
    "print(df.isnull().sum())\n"
   ]
  },
  {
   "cell_type": "code",
   "execution_count": 5,
   "metadata": {},
   "outputs": [
    {
     "name": "stdout",
     "output_type": "stream",
     "text": [
      "Mean Absolute Error (MAE): 1.88\n"
     ]
    }
   ],
   "source": [
    "from sklearn.model_selection import train_test_split\n",
    "from sklearn.ensemble import RandomForestRegressor\n",
    "from sklearn.metrics import mean_absolute_error, mean_squared_error\n",
    "\n",
    "# Select Features (PM2.5, PM10, NO2, CO, etc.)\n",
    "X = df[['PM2.5', 'PM10', 'CO', 'SO2', 'O3','Wind Speed','Humidity','Temp']]  # Adjust based on actual columns\n",
    "y = df['AQI']  # Target Variable\n",
    "\n",
    "# Split data\n",
    "X_train, X_test, y_train, y_test = train_test_split(X, y, test_size=0.2, random_state=42)\n",
    "\n",
    "# Train Random Forest Model\n",
    "model = RandomForestRegressor(n_estimators=100, random_state=42)\n",
    "model.fit(X_train, y_train)\n",
    "\n",
    "# Make Predictions\n",
    "y_pred = model.predict(X_test)\n",
    "\n",
    "# Evaluate Performance\n",
    "mae = mean_absolute_error(y_test, y_pred)\n",
    "#rmse = mean_squared_error(y_test, y_pred, squared=False)\n",
    "\n",
    "print(f\"Mean Absolute Error (MAE): {mae:.2f}\")\n",
    "#print(f\"Root Mean Squared Error (RMSE): {rmse:.2f}\")\n"
   ]
  },
  {
   "cell_type": "code",
   "execution_count": 6,
   "metadata": {},
   "outputs": [
    {
     "data": {
      "text/plain": [
       "array([ 75.  ,  94.8 ,  94.95,  35.22,  62.14,  75.  ,  47.11,  96.1 ,\n",
       "        48.9 ,  69.16,  42.04,  74.48,  94.95,  55.47,  69.87,  39.4 ,\n",
       "        55.74,  27.  ,  61.08,  37.93,  71.53,  96.1 ,  43.12,  27.  ,\n",
       "        40.6 ,  59.  ,  75.  ,  69.96,  36.02,  37.83, 209.88,  85.71,\n",
       "        23.16, 209.88,  27.05,  60.15,  47.64,  37.16,  75.  , 114.16,\n",
       "        50.46,  65.93,  89.38,  48.76,  68.38,  37.11,  35.92,  65.35,\n",
       "        44.64,  69.82,  47.37,  38.03,  48.92,  39.4 ,  84.33,  48.31,\n",
       "        75.  , 209.67,  62.08,  40.04,  72.47,  40.  ,  27.06,  69.99,\n",
       "        37.93,  76.18,  87.97,  58.07,  27.  ,  28.32,  59.87,  50.2 ,\n",
       "        88.04,  47.8 ,  85.85,  61.06,  62.08,  74.48,  42.04,  44.95,\n",
       "        91.4 ])"
      ]
     },
     "execution_count": 6,
     "metadata": {},
     "output_type": "execute_result"
    }
   ],
   "source": [
    "y_pred"
   ]
  },
  {
   "cell_type": "code",
   "execution_count": 12,
   "metadata": {},
   "outputs": [
    {
     "name": "stderr",
     "output_type": "stream",
     "text": [
      "/var/folders/pj/bb0blhm15x7dw5v23gt3sxvc0000gn/T/ipykernel_6604/2363484547.py:5: FutureWarning: 'H' is deprecated and will be removed in a future version, please use 'h' instead.\n",
      "  df['timestamp'] = pd.date_range(start='2024-03-01', periods=len(df), freq='H')\n",
      "/Library/Frameworks/Python.framework/Versions/3.11/lib/python3.11/site-packages/statsmodels/tsa/base/tsa_model.py:473: ValueWarning: No frequency information was provided, so inferred frequency h will be used.\n",
      "  self._init_dates(dates, freq)\n",
      "/Library/Frameworks/Python.framework/Versions/3.11/lib/python3.11/site-packages/statsmodels/tsa/base/tsa_model.py:473: ValueWarning: No frequency information was provided, so inferred frequency h will be used.\n",
      "  self._init_dates(dates, freq)\n",
      "/Library/Frameworks/Python.framework/Versions/3.11/lib/python3.11/site-packages/statsmodels/tsa/base/tsa_model.py:473: ValueWarning: No frequency information was provided, so inferred frequency h will be used.\n",
      "  self._init_dates(dates, freq)\n"
     ]
    },
    {
     "data": {
      "image/png": "[encoded data removed]",
      "text/plain": [
       "<Figure size 1200x500 with 1 Axes>"
      ]
     },
     "metadata": {},
     "output_type": "display_data"
    }
   ],
   "source": [
    "from statsmodels.tsa.arima.model import ARIMA\n",
    "import matplotlib.pyplot as plt\n",
    "\n",
    "# Convert Date column to datetime format\n",
    "df['timestamp'] = pd.date_range(start='2024-03-01', periods=len(df), freq='H')\n",
    "\n",
    "# Set timestamp as the index\n",
    "df.set_index('timestamp', inplace=True)\n",
    "\n",
    "# Fit ARIMA Model\n",
    "model = ARIMA(df['AQI'], order=(2, 1, 2))  # Adjust p, d, q based on ACF/PACF\n",
    "model_fit = model.fit()\n",
    "\n",
    "# Forecast Next 30 Days\n",
    "forecast = model_fit.forecast(steps=30)\n",
    "\n",
    "# Plot Forecast\n",
    "plt.figure(figsize=(12, 5))\n",
    "plt.plot(df.index, df['AQI'], label=\"Actual AQI\", color='blue')\n",
    "plt.plot(pd.date_range(df.index[-1], periods=30, freq=\"D\"), forecast, linestyle=\"dashed\", color='red', label=\"Forecasted AQI\")\n",
    "plt.xlabel(\"Date\")\n",
    "plt.ylabel(\"AQI\")\n",
    "plt.legend()\n",
    "plt.show()\n",
    "#mae = mean_absolute_error(y_test, forecast)\n"
   ]
  },
  {
   "cell_type": "code",
   "execution_count": 14,
   "metadata": {},
   "outputs": [
    {
     "name": "stdout",
     "output_type": "stream",
     "text": [
      "Mean Absolute Error (MAE): 18.30\n",
      "Mean Squared Error (MSE): 361.70\n",
      "Root Mean Squared Error (RMSE): 19.02\n"
     ]
    }
   ],
   "source": [
    "import numpy as np\n",
    "from sklearn.metrics import mean_absolute_error, mean_squared_error\n",
    "\n",
    "# Get actual and predicted values\n",
    "actual = df[\"AQI\"].iloc[-30:]  # Last 30 days of actual data\n",
    "predicted = model_fit.forecast(steps=30)\n",
    "\n",
    "# Calculate error metrics\n",
    "mae = mean_absolute_error(actual, predicted)\n",
    "mse = mean_squared_error(actual, predicted)\n",
    "rmse = np.sqrt(mse)\n",
    "\n",
    "print(f\"Mean Absolute Error (MAE): {mae:.2f}\")\n",
    "print(f\"Mean Squared Error (MSE): {mse:.2f}\")\n",
    "print(f\"Root Mean Squared Error (RMSE): {rmse:.2f}\")\n"
   ]
  },
  {
   "cell_type": "code",
   "execution_count": null,
   "metadata": {},
   "outputs": [],
   "source": []
  }
 ],
 "metadata": {
  "kernelspec": {
   "display_name": "Python 3",
   "language": "python",
   "name": "python3"
  },
  "language_info": {
   "codemirror_mode": {
    "name": "ipython",
    "version": 3
   },
   "file_extension": ".py",
   "mimetype": "text/x-python",
   "name": "python",
   "nbconvert_exporter": "python",
   "pygments_lexer": "ipython3",
   "version": "3.11.7"
  }
 },
 "nbformat": 4,
 "nbformat_minor": 2
}
